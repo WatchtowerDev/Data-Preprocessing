{
 "cells": [
  {
   "cell_type": "code",
   "execution_count": 1,
   "metadata": {},
   "outputs": [],
   "source": [
    "import pandas as pd\n",
    "from sqlalchemy import create_engine"
   ]
  },
  {
   "cell_type": "code",
   "execution_count": 2,
   "metadata": {},
   "outputs": [],
   "source": [
    "#function for scale down the sensor output (0-4096 to 0-100)\n",
    "def scaledown(df):\n",
    "    originalRangeMax = 4096\n",
    "    presentRangeMax = 100\n",
    "    col = 0\n",
    "    while(col < 8):\n",
    "        df.update(df['flapper' + str(col)] / originalRangeMax * presentRangeMax)\n",
    "        col += 1"
   ]
  },
  {
   "cell_type": "code",
   "execution_count": 3,
   "metadata": {},
   "outputs": [],
   "source": [
    "colName_20 = ['time', \\\n",
    "                    'flapper0', 'flapper1', 'flapper2', 'flapper3', 'flapper4', 'flapper5', 'flapper6', 'flapper7', \\\n",
    "                    'pressure', 'light', \\\n",
    "                    'orientationX', 'orientationY', 'orientationZ', \\\n",
    "                    'accX', 'accY', 'accZ', \\\n",
    "                    'compassX', 'compassY', 'compassZ']\n",
    "\n",
    "colName_26 = [\n",
    "                    'time', \\\n",
    "                    'flapper0', 'flapper1', 'flapper2', 'flapper3', 'flapper4', 'flapper5', 'flapper6', 'flapper7', \\\n",
    "                    'pressure', 'light', \\\n",
    "                    'accX', 'accY', 'accZ', \\\n",
    "                    'compassX', 'compassY', 'compassZ', \\\n",
    "                    'rotationalSpeedX', 'rotationalSpeedY', 'rotationalSpeedZ', \\\n",
    "                    'quaternion0', 'quaternion1', 'quaternion2', 'quaternion3']\n",
    "colName_23 = [\n",
    "                    'time', \\\n",
    "                    'flapper0', 'flapper1', 'flapper2', 'flapper3', 'flapper4', 'flapper5', 'flapper6', 'flapper7', \\\n",
    "                    'bend', 'light', \\\n",
    "                    'accX', 'accY', 'accZ', \\\n",
    "                    'compassX', 'compassY', 'compassZ', \\\n",
    "                    'rotationalSpeedX', 'rotationalSpeedY', 'rotationalSpeedZ', \\\n",
    "                    'orientationX', 'orientationY', 'orientationZ']"
   ]
  },
  {
   "cell_type": "code",
   "execution_count": 4,
   "metadata": {},
   "outputs": [],
   "source": [
    "def createDBFromCSV(filename, dbname, cols=20):\n",
    "    #20 cols or 26cols\n",
    "    colName = colName_20\n",
    "    if cols == 26:\n",
    "        colName = colName_26\n",
    "    if cols == 23:\n",
    "        colName = colName_23\n",
    "    #read csv\n",
    "    df = pd.read_csv(filename, names=colName)\n",
    "    #drop '/xxx.csv' & 'finish'\n",
    "    df.drop(df.head(1).index,inplace=True)\n",
    "    df.drop(df.tail(1).index,inplace=True)\n",
    "    df = df.reset_index(drop=True)\n",
    "    #\n",
    "#     c = 0\n",
    "#     while c < 8:\n",
    "#         for i in range(len(df.index)):\n",
    "#             df['flapper' + str(c)][i] = int(df['flapper' + str(c)][i])\n",
    "#         c += 1\n",
    "    #\n",
    "    #scale down\n",
    "    scaledown(df)\n",
    "    #guarantee 'time' type\n",
    "    df['time'] = pd.to_numeric(df['time'])\n",
    "    #create database\n",
    "    csv_database = create_engine('sqlite:///' + str(dbname) + '.db')\n",
    "    tablename = 'sensorProcessed'\n",
    "    df.to_sql(tablename, csv_database, if_exists='append')"
   ]
  },
  {
   "cell_type": "code",
   "execution_count": 20,
   "metadata": {},
   "outputs": [],
   "source": [
    "run = 5\n",
    "filename = '/Users/meng/Downloads/Dat01.csv' #file path\n",
    "createDBFromCSV(filename, 'KFtest04', 23) # filename & num of cols"
   ]
  },
  {
   "cell_type": "code",
   "execution_count": null,
   "metadata": {},
   "outputs": [],
   "source": []
  }
 ],
 "metadata": {
  "kernelspec": {
   "display_name": "Python 3",
   "language": "python",
   "name": "python3"
  },
  "language_info": {
   "codemirror_mode": {
    "name": "ipython",
    "version": 3
   },
   "file_extension": ".py",
   "mimetype": "text/x-python",
   "name": "python",
   "nbconvert_exporter": "python",
   "pygments_lexer": "ipython3",
   "version": "3.6.5"
  }
 },
 "nbformat": 4,
 "nbformat_minor": 2
}

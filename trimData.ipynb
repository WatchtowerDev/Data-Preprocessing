{
 "cells": [
  {
   "cell_type": "code",
   "execution_count": 1,
   "metadata": {},
   "outputs": [],
   "source": [
    "import pandas as pd\n",
    "import numpy as np\n",
    "import scipy as sp\n",
    "import plotly.plotly as py\n",
    "import plotly.figure_factory as ff\n",
    "import plotly.graph_objs as go\n",
    "import scipy.signal as ss"
   ]
  },
  {
   "cell_type": "code",
   "execution_count": 2,
   "metadata": {},
   "outputs": [],
   "source": [
    "#function for reading database, return a dataframe, return a dataframe\n",
    "def readDB(csv_database):\n",
    "    sql = 'select * from sensorProcessed' #sql need to be executed. \n",
    "    df = pd.read_sql_query(sql, csv_database) # read data as dataframe\n",
    "    return df"
   ]
  },
  {
   "cell_type": "code",
   "execution_count": 3,
   "metadata": {},
   "outputs": [],
   "source": [
    "#set credentials file for plotly(username & API key)\n",
    "import plotly\n",
    "username = 'mengyizhou95' #username registered on Ploty\n",
    "api_key = 'X5DOiJATuUqPbsabrbxA' #the api key plotly asigned\n",
    "plotly.tools.set_credentials_file(username=username, api_key=api_key)"
   ]
  },
  {
   "cell_type": "code",
   "execution_count": 4,
   "metadata": {},
   "outputs": [],
   "source": [
    "#set the conversion ratio from min to ms\n",
    "timeConversionVal = 60000"
   ]
  },
  {
   "cell_type": "code",
   "execution_count": 5,
   "metadata": {},
   "outputs": [],
   "source": [
    "#function for trans time from min to ms\n",
    "def MinToMS(time, df):\n",
    "    time = time * timeConversionVal\n",
    "    time = df.time.iloc[(df['time']-time).abs().argsort()[:1]] #find the closest time on table\n",
    "    return time.values[0]"
   ]
  },
  {
   "cell_type": "code",
   "execution_count": 1,
   "metadata": {},
   "outputs": [],
   "source": [
    "#trim data function for 23-col data\n",
    "def trimData_23(df, start, end, filename='trimedData.csv'):\n",
    "    #trans time\n",
    "    start = MinToMS(start, df)\n",
    "    end = MinToMS(end, df)\n",
    "    #get index\n",
    "    startIndex = df.index[df['time'] == start].tolist()[0] #get the index of start & end\n",
    "    endIndex = df.index[df['time'] == end].tolist()[0]\n",
    "    \n",
    "    #make time start from 0\n",
    "    df = df.iloc[startIndex:endIndex]\n",
    "    tp = df.iloc[0]['time'].item()\n",
    "    df[\"time\"] = df[\"time\"].apply(lambda x: x - tp)\n",
    "    #reset index number\n",
    "    df = df.drop(columns=['index'])\n",
    "    df = df.reset_index(drop=True)\n",
    "    #rename col\n",
    "    df.columns = [\n",
    "                  'time', \\\n",
    "                  'flapper0', 'flapper1', 'flapper2', 'flapper3', 'flapper4', 'flapper5', 'flapper6', 'flapper7', \\\n",
    "                  'bend', 'light', \\\n",
    "                  'accX', 'accY', 'accZ', \\\n",
    "                  'compassX', 'compassY', 'compassZ', \\\n",
    "                  'rotationalSpeedX', 'rotationalSpeedY', 'rotationalSpeedZ', \\\n",
    "                  'orientationX', 'orientationY', 'orientationZ']\n",
    "    \n",
    "    df.to_csv(filename)"
   ]
  },
  {
   "cell_type": "code",
   "execution_count": 2,
   "metadata": {},
   "outputs": [],
   "source": [
    "#if we stop in the middle, we can concat two parts of data \n",
    "def concatData(df1, start1, end1, start2, end2, filename='concatData.csv'):\n",
    "    #trans time\n",
    "    start1 = MinToMS(start1, df1)\n",
    "    end1 = MinToMS(end1, df1)\n",
    "    start2 = MinToMS(start2, df1)\n",
    "    end2 = MinToMS(end2, df1)\n",
    "    \n",
    "    #get index\n",
    "    startIndex1 = df1.index[df1['time'] == start1].tolist()[0]\n",
    "    endIndex1 = df1.index[df1['time'] == end1].tolist()[0]\n",
    "    startIndex2 = df1.index[df1['time'] == start2].tolist()[0]\n",
    "    endIndex2 = df1.index[df1['time'] == end2].tolist()[0]\n",
    "    \n",
    "    #get two dataframe to concat\n",
    "    dftmp1 = df1.iloc[startIndex1:endIndex1]\n",
    "    dftmp2 = df1.iloc[startIndex2:endIndex2]\n",
    "    \n",
    "    #concat two parts\n",
    "    diff = start2 - end1\n",
    "    dftmp1 = dftmp1.reset_index(drop=True)\n",
    "    dftmp2 = dftmp2.reset_index(drop=True)\n",
    "    dftmp2[\"time\"] = dftmp2[\"time\"].apply(lambda x: x - diff)\n",
    "\n",
    "    df1 = pd.concat([dftmp1, dftmp2])\n",
    "    df1 = df1.reset_index(drop=True)\n",
    "    \n",
    "    #make time start from 0\n",
    "    first = df1['time'].head(1).tolist()[0]\n",
    "    df1['time'] = df1['time'] - first\n",
    "    \n",
    "    #to csv\n",
    "    df1.to_csv(\"Cambridge_trim.csv\")"
   ]
  },
  {
   "cell_type": "code",
   "execution_count": null,
   "metadata": {},
   "outputs": [],
   "source": []
  }
 ],
 "metadata": {
  "kernelspec": {
   "display_name": "Python 3",
   "language": "python",
   "name": "python3"
  },
  "language_info": {
   "codemirror_mode": {
    "name": "ipython",
    "version": 3
   },
   "file_extension": ".py",
   "mimetype": "text/x-python",
   "name": "python",
   "nbconvert_exporter": "python",
   "pygments_lexer": "ipython3",
   "version": "3.6.5"
  }
 },
 "nbformat": 4,
 "nbformat_minor": 2
}

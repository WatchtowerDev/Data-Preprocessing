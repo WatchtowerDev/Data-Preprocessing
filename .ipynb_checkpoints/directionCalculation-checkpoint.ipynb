{
 "cells": [
  {
   "cell_type": "code",
   "execution_count": 210,
   "metadata": {},
   "outputs": [],
   "source": [
    "import pandas as pd\n",
    "import numpy as np\n",
    "import scipy as sp\n",
    "import plotly.plotly as py\n",
    "import plotly.figure_factory as ff\n",
    "import plotly.graph_objs as go\n",
    "import plotly\n",
    "import scipy.signal as ss\n",
    "import math\n",
    "from vectors import Point, Vector\n",
    "from dataFilter import butter_highpass_filter, butter_lowpass_filter\n",
    "from selfpkg import readDB, MinToMS"
   ]
  },
  {
   "cell_type": "code",
   "execution_count": 151,
   "metadata": {},
   "outputs": [],
   "source": [
    "def getMag(list):\n",
    "    ret = math.sqrt(list[0]**2 + list[1]**2 + list[2]**2)\n",
    "    return ret"
   ]
  },
  {
   "cell_type": "code",
   "execution_count": 152,
   "metadata": {},
   "outputs": [],
   "source": [
    "def getUnit(list):\n",
    "    mag = getMag(list);\n",
    "    ret = [x / mag for x in list]\n",
    "    return ret"
   ]
  },
  {
   "cell_type": "code",
   "execution_count": 153,
   "metadata": {},
   "outputs": [],
   "source": [
    "def multiply(list, n):\n",
    "    ret = [x * n for x in list]\n",
    "    return ret"
   ]
  },
  {
   "cell_type": "code",
   "execution_count": 154,
   "metadata": {},
   "outputs": [],
   "source": [
    "def add(list1, list2):\n",
    "    ret = [list1[0]+list2[0], list1[1]+list2[1], list1[2]+list2[2]]\n",
    "    return ret"
   ]
  },
  {
   "cell_type": "code",
   "execution_count": 155,
   "metadata": {},
   "outputs": [],
   "source": [
    "def substract(list1, list2):\n",
    "    ret = [list1[0]-list2[0], list1[1]-list2[1], list1[2]-list2[2]]\n",
    "    return ret"
   ]
  },
  {
   "cell_type": "code",
   "execution_count": 156,
   "metadata": {},
   "outputs": [],
   "source": [
    "def dot(list1, list2):\n",
    "    ret = list1[0]*list2[0] + list1[1]*list2[1] + list1[2]*list2[2]\n",
    "    return ret"
   ]
  },
  {
   "cell_type": "code",
   "execution_count": 157,
   "metadata": {},
   "outputs": [],
   "source": [
    "def cross(list1, list2):\n",
    "    ret = [\n",
    "             list1[1]*list2[2] - list1[2]*list2[1], \\\n",
    "             list1[2]*list2[0] - list1[0]*list2[2], \\\n",
    "             list1[0]*list2[1] - list1[1]*list2[0]\n",
    "            ]\n",
    "    return ret"
   ]
  },
  {
   "cell_type": "code",
   "execution_count": 250,
   "metadata": {},
   "outputs": [],
   "source": [
    "def getDirection(df):\n",
    "    n = len(df.index)\n",
    "    \n",
    "    acc = []\n",
    "    acc_x = df.accX/10;\n",
    "    acc_y = df.accY/10;\n",
    "    acc_z = df.accZ/10;\n",
    "    for i in range(n):\n",
    "        acc.append([acc_x[i], acc_y[i], acc_z[i]])\n",
    "    magn_x = df.compassX\n",
    "    magn_y = df.compassY\n",
    "    magn_z = df.compassZ\n",
    "    magn = []\n",
    "    for i in range(n):\n",
    "        magn.append([magn_x[i], magn_y[i], magn_z[i]])\n",
    "        \n",
    "    #move the downward component of the magnetic field(~40 mT)\n",
    "    #1st. calculate the downward vector defined by gravity\n",
    "    unit_G_vector = [] # unit vector @G\n",
    "    for i in range(n):\n",
    "        unit_G_vector.append(getUnit(acc[i]))\n",
    "\n",
    "    magn_downward_dot_product = [] #dot product of unit_G_vector & magn\n",
    "    for i in range(n):\n",
    "        magn_downward_dot_product.append(dot(magn[i], unit_G_vector[i]))\n",
    "\n",
    "    magn_downward = [] #projection of magn on G\n",
    "    for i in range(n):\n",
    "        magn_downward.append(multiply(unit_G_vector[i], magn_downward_dot_product[i]))\n",
    "        \n",
    "    #2nd. substract the downward component from the total magnetic vector\n",
    "    #Now we have the south vector\n",
    "    south_vector = []\n",
    "    for i in range(n):\n",
    "        south_vector.append(substract(magn[i], magn_downward[i]))\n",
    "    \n",
    "    #3rd. projection of z on horizontal plane\n",
    "    z_project_vertical = []\n",
    "    for i in range(n):\n",
    "        z_project_vertical.append(multiply(unit_G_vector[i], dot([0, 0, 1], unit_G_vector[i])))\n",
    "\n",
    "    z_in_horizontal = []\n",
    "    for i in range(n):\n",
    "        z_in_horizontal.append(substract([0, 0, 1], z_project_vertical[i]))\n",
    "        \n",
    "    #4th calculate the angle between the projection of z in horizontal plane & south\n",
    "    sin = []\n",
    "    cos = []\n",
    "    for i in range(n):\n",
    "        try:\n",
    "            sin.append(dot(cross(z_in_horizontal[i], south_vector[i]), unit_G_vector[i]) / (getMag(z_in_horizontal[i]) * getMag(south_vector[i])))\n",
    "            cos.append(dot(z_in_horizontal[i], south_vector[i]) / (getMag(z_in_horizontal[i]) * getMag(south_vector[i])))\n",
    "        except ZeroDivisionError:\n",
    "            if getMag(z_in_horizontal[i]) == 0:\n",
    "                z_in_horizontal[i][0] = 0.1\n",
    "            if getMag(south_vector[i]) == 0:\n",
    "                south_vector[i][0] = 0.1\n",
    "            sin.append(dot(cross(z_in_horizontal[i], south_vector[i]), unit_G_vector[i]) / (getMag(z_in_horizontal[i]) * getMag(south_vector[i])))\n",
    "            cos.append(dot(z_in_horizontal[i], south_vector[i]) / (getMag(z_in_horizontal[i]) * getMag(south_vector[i])))\n",
    "            continue\n",
    "    \n",
    "    #finally, calculate the angle\n",
    "    angles = []\n",
    "    for i in range(n):\n",
    "        try:\n",
    "            if cos[i] > 0 and sin[i] > 0:\n",
    "                angles.append(math.asin(sin[i]) / 3.14 * 180)\n",
    "            if cos[i] > 0 and sin[i] < 0:\n",
    "                angles.append(math.asin(sin[i]) / 3.14 * 180)\n",
    "            if cos[i] < 0 and sin[i] > 0:\n",
    "                angles.append(180 - (math.asin(sin[i]) / 3.14 * 180))\n",
    "            if cos[i] < 0 and sin[i] < 0:\n",
    "                angles.append(-(math.asin(sin[i]) / 3.14 * 180) - 180)\n",
    "        \n",
    "        except ValueError:\n",
    "            angles.append(0)\n",
    "            continue\n",
    "    \n",
    "    return angles"
   ]
  },
  {
   "cell_type": "code",
   "execution_count": 252,
   "metadata": {},
   "outputs": [
    {
     "name": "stderr",
     "output_type": "stream",
     "text": [
      "/Users/meng/Documents/dataPreprocessing/venv/lib/python3.6/site-packages/ipykernel_launcher.py:51: RuntimeWarning:\n",
      "\n",
      "invalid value encountered in double_scalars\n",
      "\n",
      "/Users/meng/Documents/dataPreprocessing/venv/lib/python3.6/site-packages/ipykernel_launcher.py:52: RuntimeWarning:\n",
      "\n",
      "invalid value encountered in double_scalars\n",
      "\n"
     ]
    },
    {
     "data": {
      "text/plain": [
       "'file:///Users/meng/Documents/dataPreprocessing/venv/source/test4angle.html'"
      ]
     },
     "execution_count": 252,
     "metadata": {},
     "output_type": "execute_result"
    }
   ],
   "source": [
    "# df = pd.read_csv('/Users/meng/Documents/dataPreprocessing/venv/source/sa_run04_trim.csv')\n",
    "csv_database = 'sqlite:///sa_run08.db' \n",
    "df = readDB(csv_database)\n",
    "angles = getDirection(df)\n",
    "\n",
    "trace0 = go.Scattergl(\n",
    "    x=df.time/60000,\n",
    "    y=angles,\n",
    "    name = 'angles',\n",
    "    line = dict(\n",
    "        color = ('rgb(127, 127, 127)'),\n",
    "        width = 1)\n",
    ")\n",
    "\n",
    "data = [trace0]\n",
    "layout = dict(title = 'test4angle',\n",
    "                   xaxis = dict(title = 'Time(minutes)'),\n",
    "                   yaxis = dict(title = 'angles(degrees)'))\n",
    "\n",
    "fig = dict(data = data, layout = layout)\n",
    "plotly.offline.plot(fig, filename='test4angle' + '.html')"
   ]
  },
  {
   "cell_type": "markdown",
   "metadata": {},
   "source": [
    "# the following is the distributed 'getDirection' for test"
   ]
  },
  {
   "cell_type": "code",
   "execution_count": 216,
   "metadata": {},
   "outputs": [],
   "source": [
    "# df = pd.read_csv('/Users/meng/Documents/dataPreprocessing/venv/source/sa_run04_trim.csv')\n",
    "csv_database = 'sqlite:///sa_run08.db' \n",
    "df = readDB(csv_database)"
   ]
  },
  {
   "cell_type": "code",
   "execution_count": 217,
   "metadata": {},
   "outputs": [],
   "source": [
    "n = len(df.index)"
   ]
  },
  {
   "cell_type": "code",
   "execution_count": 218,
   "metadata": {},
   "outputs": [],
   "source": [
    "#calculate the robot tilt from acceleration\n",
    "acc_x = df.accX / 10\n",
    "acc_y = df.accY /10\n",
    "acc_z = df.accZ / 10\n",
    "angle_G_in_xy = []\n",
    "# acc_xy = []\n",
    "# angle_G_in_vertical = []\n",
    "# for x in acc_y/acc_x:\n",
    "#     angle_G_in_xy.append(math.atan(x) / 3.14 * 180)\n",
    "    \n",
    "# for i in range(n):\n",
    "#     acc_xy.append(math.sqrt(acc_x[i]**2 + acc_y[i]**2))\n",
    "\n",
    "# for i in range(n):\n",
    "#     angle_G_in_vertical.append(math.atan(acc_z[i]/acc_xy[i]) / 3.14 * 180)"
   ]
  },
  {
   "cell_type": "code",
   "execution_count": 219,
   "metadata": {},
   "outputs": [],
   "source": [
    "acc = []\n",
    "for i in range(n):\n",
    "    acc.append([acc_x[i], acc_y[i], acc_z[i]])\n",
    "magn_x = df.compassX\n",
    "magn_y = df.compassY\n",
    "magn_z = df.compassZ\n",
    "magn = []\n",
    "for i in range(n):\n",
    "    magn.append([magn_x[i], magn_y[i], magn_z[i]])"
   ]
  },
  {
   "cell_type": "code",
   "execution_count": 223,
   "metadata": {},
   "outputs": [],
   "source": [
    "#move the downward component of the magnetic field(~40 mT)\n",
    "#1st. calculate the downward vector defined by gravity\n",
    "unit_G_vector = [] # unit vector @G\n",
    "for i in range(n):\n",
    "    unit_G_vector.append(getUnit(acc[i]))\n",
    "    \n",
    "magn_downward_dot_product = [] #dot product of unit_G_vector & magn\n",
    "for i in range(n):\n",
    "    magn_downward_dot_product.append(dot(magn[i], unit_G_vector[i]))\n",
    "\n",
    "magn_downward = [] #projection of magn on G\n",
    "for i in range(n):\n",
    "    magn_downward.append(multiply(unit_G_vector[i], magn_downward_dot_product[i]))"
   ]
  },
  {
   "cell_type": "code",
   "execution_count": 243,
   "metadata": {},
   "outputs": [
    {
     "data": {
      "text/plain": [
       "'file:///Users/meng/Documents/dataPreprocessing/venv/source/1.html'"
      ]
     },
     "execution_count": 243,
     "metadata": {},
     "output_type": "execute_result"
    }
   ],
   "source": [
    "timeConversionVal = 60000\n",
    "trace0 = go.Scattergl(\n",
    "    x=df.time/timeConversionVal,\n",
    "    y=sin,\n",
    "    name = 'accX',\n",
    "    line = dict(\n",
    "        color = ('rgb(0, 0, 255)'),\n",
    "        width = 1)\n",
    ")\n",
    "# trace1 = go.Scattergl(\n",
    "#     x=df.time/timeConversionVal,\n",
    "#     y=df.compassY,\n",
    "#     name = 'accY',\n",
    "#     line = dict(\n",
    "#         color = ('rgb(255, 0, 0)'),\n",
    "#         width = 1)\n",
    "# )\n",
    "# trace2 = go.Scattergl(\n",
    "#     x=df.time/timeConversionVal,\n",
    "#     y=df.compassZ,\n",
    "#     name = 'accZ',\n",
    "#     line = dict(\n",
    "#         color = ('rgb(0, 255, 0)'),\n",
    "#         width = 1)\n",
    "# )\n",
    "\n",
    "data = [trace0]\n",
    "\n",
    "layout = dict(title = '1',\n",
    "                   xaxis = dict(title = 'Time(minutes)'),\n",
    "                   yaxis = dict(title = 'Acceleration'))\n",
    "\n",
    "fig = dict(data = data, layout = layout)\n",
    "plotly.offline.plot(fig, filename='1' + '.html')"
   ]
  },
  {
   "cell_type": "code",
   "execution_count": 237,
   "metadata": {},
   "outputs": [
    {
     "data": {
      "text/plain": [
       "'file:///Users/meng/Documents/dataPreprocessing/venv/source/2.html'"
      ]
     },
     "execution_count": 237,
     "metadata": {},
     "output_type": "execute_result"
    }
   ],
   "source": [
    "timeConversionVal = 60000\n",
    "trace0 = go.Scattergl(\n",
    "    x=df.time/timeConversionVal,\n",
    "    y=[x[0] for x in z_in_horizontal],\n",
    "    name = 'accX',\n",
    "    line = dict(\n",
    "        color = ('rgb(0, 0, 255)'),\n",
    "        width = 1)\n",
    ")\n",
    "trace1 = go.Scattergl(\n",
    "    x=df.time/timeConversionVal,\n",
    "    y=[x[1] for x in z_in_horizontal],\n",
    "    name = 'accY',\n",
    "    line = dict(\n",
    "        color = ('rgb(255, 0, 0)'),\n",
    "        width = 1)\n",
    ")\n",
    "trace2 = go.Scattergl(\n",
    "    x=df.time/timeConversionVal,\n",
    "    y=[x[2] for x in z_in_horizontal],\n",
    "    name = 'accZ',\n",
    "    line = dict(\n",
    "        color = ('rgb(0, 255, 0)'),\n",
    "        width = 1)\n",
    ")\n",
    "\n",
    "data = [trace0, trace1, trace2]\n",
    "\n",
    "layout = dict(title = '2',\n",
    "                   xaxis = dict(title = 'Time(minutes)'),\n",
    "                   yaxis = dict(title = 'Acceleration'))\n",
    "\n",
    "fig = dict(data = data, layout = layout)\n",
    "plotly.offline.plot(fig, filename='2' + '.html')"
   ]
  },
  {
   "cell_type": "code",
   "execution_count": 241,
   "metadata": {},
   "outputs": [
    {
     "data": {
      "text/plain": [
       "'file:///Users/meng/Documents/dataPreprocessing/venv/source/3.html'"
      ]
     },
     "execution_count": 241,
     "metadata": {},
     "output_type": "execute_result"
    }
   ],
   "source": [
    "timeConversionVal = 60000\n",
    "trace0 = go.Scattergl(\n",
    "    x=df.time/timeConversionVal,\n",
    "    y=[x[0] for x in crossp],\n",
    "    name = 'accX',\n",
    "    line = dict(\n",
    "        color = ('rgb(0, 0, 255)'),\n",
    "        width = 1)\n",
    ")\n",
    "trace1 = go.Scattergl(\n",
    "    x=df.time/timeConversionVal,\n",
    "    y=[x[1] for x in crossp],\n",
    "    name = 'accY',\n",
    "    line = dict(\n",
    "        color = ('rgb(255, 0, 0)'),\n",
    "        width = 1)\n",
    ")\n",
    "trace2 = go.Scattergl(\n",
    "    x=df.time/timeConversionVal,\n",
    "    y=[x[2] for x in crossp],\n",
    "    name = 'accZ',\n",
    "    line = dict(\n",
    "        color = ('rgb(0, 255, 0)'),\n",
    "        width = 1)\n",
    ")\n",
    "\n",
    "data = [trace0, trace1, trace2]\n",
    "\n",
    "layout = dict(title = '3',\n",
    "                   xaxis = dict(title = 'Time(minutes)'),\n",
    "                   yaxis = dict(title = 'Acceleration'))\n",
    "\n",
    "fig = dict(data = data, layout = layout)\n",
    "plotly.offline.plot(fig, filename='3' + '.html')"
   ]
  },
  {
   "cell_type": "code",
   "execution_count": 232,
   "metadata": {},
   "outputs": [],
   "source": [
    "#2nd. substract the downward component from the total magnetic vector\n",
    "#Now we have the south vector\n",
    "south_vector = []\n",
    "for i in range(n):\n",
    "    south_vector.append(substract(magn[i], magn_downward[i]))"
   ]
  },
  {
   "cell_type": "code",
   "execution_count": 234,
   "metadata": {},
   "outputs": [],
   "source": [
    "#3rd. projection of z on horizontal plane\n",
    "z_project_vertical = []\n",
    "for i in range(n):\n",
    "    z_project_vertical.append(multiply(unit_G_vector[i], dot([0, 0, 1], unit_G_vector[i])))\n",
    "\n",
    "z_in_horizontal = []\n",
    "for i in range(n):\n",
    "    z_in_horizontal.append(substract([0, 0, 1], z_project_vertical[i]))"
   ]
  },
  {
   "cell_type": "code",
   "execution_count": 242,
   "metadata": {},
   "outputs": [],
   "source": [
    "#4th calculate the angle between the projection of z in horizontal plane & south\n",
    "sin = []\n",
    "cos = []\n",
    "crossp = []\n",
    "for i in range(n):\n",
    "    try:\n",
    "#         crossp.append(cross(z_in_horizontal[i], south_vector[i]))\n",
    "        sin.append(dot(cross(z_in_horizontal[i], south_vector[i]), unit_G_vector[i]) / (getMag(z_in_horizontal[i]) * getMag(south_vector[i])))\n",
    "        cos.append(dot(z_in_horizontal[i], south_vector[i]) / (getMag(z_in_horizontal[i]) * getMag(south_vector[i])))\n",
    "    except ZeroDivisionError:\n",
    "        if getMag(z_in_horizontal[i]) == 0:\n",
    "            z_in_horizontal[i][0] = 0.1\n",
    "        if getMag(south_vector[i]) == 0:\n",
    "            south_vector[i][0] = 0.1\n",
    "#         crossp.append(cross(z_in_horizontal[i], south_vector[i]))\n",
    "        sin.append(dot(cross(z_in_horizontal[i], south_vector[i]), unit_G_vector[i]) / (getMag(z_in_horizontal[i]) * getMag(south_vector[i])))\n",
    "        cos.append(dot(z_in_horizontal[i], south_vector[i]) / (getMag(z_in_horizontal[i]) * getMag(south_vector[i])))\n",
    "        continue"
   ]
  },
  {
   "cell_type": "code",
   "execution_count": 197,
   "metadata": {},
   "outputs": [],
   "source": [
    "angles = []\n",
    "for i in range(n):\n",
    "    try:\n",
    "        a1 = math.acos(cos[i]) / 3.14 * 180\n",
    "        a2 = math.asin(sin[i]) / 3.14 * 180\n",
    "        if (abs(a1 - a2) < 0.1):\n",
    "            angles.append((a1 + a2)/2)\n",
    "        else:\n",
    "            angles.append(-a2)\n",
    "    except ValueError:\n",
    "        angles.append(0)\n",
    "        continue"
   ]
  },
  {
   "cell_type": "code",
   "execution_count": 194,
   "metadata": {},
   "outputs": [
    {
     "name": "stdout",
     "output_type": "stream",
     "text": [
      "163.9464472092234\n",
      "16.144851404204267\n"
     ]
    }
   ],
   "source": [
    "print(math.acos(cos[0]) / 3.14 * 180)\n",
    "print(math.asin(sin[0]) / 3.14 * 180)"
   ]
  },
  {
   "cell_type": "code",
   "execution_count": 177,
   "metadata": {},
   "outputs": [
    {
     "name": "stdout",
     "output_type": "stream",
     "text": [
      "1.0\n",
      "1.5613162523842676e-16\n",
      "1.0000000000000002\n",
      "-0.9999587934734988\n"
     ]
    }
   ],
   "source": [
    "print(max(sin))\n",
    "print(min(sin))\n",
    "print(max(cos))\n",
    "print(min(cos))"
   ]
  },
  {
   "cell_type": "code",
   "execution_count": null,
   "metadata": {},
   "outputs": [],
   "source": []
  }
 ],
 "metadata": {
  "kernelspec": {
   "display_name": "Python 3",
   "language": "python",
   "name": "python3"
  },
  "language_info": {
   "codemirror_mode": {
    "name": "ipython",
    "version": 3
   },
   "file_extension": ".py",
   "mimetype": "text/x-python",
   "name": "python",
   "nbconvert_exporter": "python",
   "pygments_lexer": "ipython3",
   "version": "3.6.5"
  }
 },
 "nbformat": 4,
 "nbformat_minor": 2
}

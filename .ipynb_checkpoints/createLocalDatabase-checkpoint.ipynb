{
 "cells": [
  {
   "cell_type": "code",
   "execution_count": 15,
   "metadata": {},
   "outputs": [],
   "source": [
    "import pandas as pd\n",
    "from sqlalchemy import create_engine"
   ]
  },
  {
   "cell_type": "code",
   "execution_count": 17,
   "metadata": {},
   "outputs": [],
   "source": [
    "#function for scale down the sensor output (0-4096 to 0-100)\n",
    "def scaledown(df):\n",
    "    originalRangeMax = 4096\n",
    "    presentRangeMax = 100\n",
    "    col = 0;\n",
    "    while(col < 8):\n",
    "        df.update(df['flapper' + str(col)] / originalRangeMax * presentRangeMax)\n",
    "        col += 1\n",
    "#     col = 0;\n",
    "#     while(col < 2):\n",
    "#         df.update(df['diameter' + str(col)] / originalRangeMax * presentRangeMax)\n",
    "#         col += 1"
   ]
  },
  {
   "cell_type": "code",
   "execution_count": 20,
   "metadata": {},
   "outputs": [],
   "source": [
    "colName_20 = ['time', \\\n",
    "                    'flapper0', 'flapper1', 'flapper2', 'flapper3', 'flapper4', 'flapper5', 'flapper6', 'flapper7', \\\n",
    "                    'pressure', 'light', \\\n",
    "                    'orientationX', 'orientationY', 'orientationZ', \\\n",
    "                    'accX', 'accY', 'accZ', \\\n",
    "                    'compassX', 'compassY', 'compassZ']\n",
    "\n",
    "colName_26 = [\n",
    "                    'time', \\\n",
    "                    'flapper0', 'flapper1', 'flapper2', 'flapper3', 'flapper4', 'flapper5', 'flapper6', 'flapper7', \\\n",
    "                    'pressure', 'light', \\\n",
    "                    'accX', 'accY', 'accZ', \\\n",
    "                    'compassX', 'compassY', 'compassZ', \\\n",
    "                    'rotationalSpeedX', 'rotationalSpeedY', 'rotationalSpeedZ', \\\n",
    "                    'quaternion0', 'quaternion1', 'quaternion2', 'quaternion3']"
   ]
  },
  {
   "cell_type": "code",
   "execution_count": 25,
   "metadata": {},
   "outputs": [],
   "source": [
    "def createDBFromCSV(filename, dbname, cols=20):\n",
    "    #20 cols or 26cols\n",
    "    colName = colName_20\n",
    "    if cols == 26:\n",
    "        colName = colName_26\n",
    "    #read csv\n",
    "    df = pd.read_csv(filename, names=colName)\n",
    "    #drop '/xxx.csv' & 'finish'\n",
    "    df.drop(df.head(1).index,inplace=True)\n",
    "    df.drop(df.tail(1).index,inplace=True)\n",
    "    df = df.reset_index(drop=True)\n",
    "    #scale down\n",
    "    scaledown(df)\n",
    "    #guarantee 'time' type\n",
    "    df['time'] = pd.to_numeric(df['time'])\n",
    "    #create database\n",
    "    csv_database = create_engine('sqlite:///' + str(dbname) + '.db')\n",
    "    tablename = 'sensorProcessed'\n",
    "    df.to_sql(tablename, csv_database, if_exists='append')"
   ]
  },
  {
   "cell_type": "code",
   "execution_count": 26,
   "metadata": {},
   "outputs": [],
   "source": [
    "filename = \"/Users/meng/Downloads/CambridgeRun2.csv\"\n",
    "createDBFromCSV(filename, 'Cambridge02')"
   ]
  }
 ],
 "metadata": {
  "kernelspec": {
   "display_name": "Python 3",
   "language": "python",
   "name": "python3"
  },
  "language_info": {
   "codemirror_mode": {
    "name": "ipython",
    "version": 3
   },
   "file_extension": ".py",
   "mimetype": "text/x-python",
   "name": "python",
   "nbconvert_exporter": "python",
   "pygments_lexer": "ipython3",
   "version": "3.6.5"
  }
 },
 "nbformat": 4,
 "nbformat_minor": 2
}

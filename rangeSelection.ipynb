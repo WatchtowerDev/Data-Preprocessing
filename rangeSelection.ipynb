{
 "cells": [
  {
   "cell_type": "code",
   "execution_count": 1,
   "metadata": {},
   "outputs": [],
   "source": [
    "import pandas as pd\n",
    "import numpy as np\n",
    "import scipy as sp\n",
    "import plotly.plotly as py\n",
    "import plotly.figure_factory as ff\n",
    "import plotly.graph_objs as go\n",
    "import scipy.signal as ss\n",
    "from statistics import median, mean"
   ]
  },
  {
   "cell_type": "code",
   "execution_count": 2,
   "metadata": {},
   "outputs": [],
   "source": [
    "from selfpkg import readDB, MinToMS\n",
    "from dataFilter import butter_lowpass_filter"
   ]
  },
  {
   "cell_type": "code",
   "execution_count": 3,
   "metadata": {},
   "outputs": [],
   "source": [
    "#set credentials file for plotly(username & API key)\n",
    "import plotly\n",
    "username = 'mengyizhou95' #username registered on Ploty\n",
    "api_key = 'X5DOiJATuUqPbsabrbxA' #the api key plotly asigned\n",
    "plotly.tools.set_credentials_file(username=username, api_key=api_key)"
   ]
  },
  {
   "cell_type": "code",
   "execution_count": 4,
   "metadata": {},
   "outputs": [],
   "source": [
    "#set the conversion ratio from min to ms\n",
    "timeConversionVal = 60000\n",
    "\n",
    "order = 5 #order of filter (1-)\n",
    "fs = 25       # sample rate, Hz\n",
    "cutoff = 10 # desired cutoff frequency of the filter, Hz"
   ]
  },
  {
   "cell_type": "code",
   "execution_count": 21,
   "metadata": {},
   "outputs": [],
   "source": [
    "def edgeDetection(df, dfOrientation, start=None, end=None, filename='edgeDetection'):\n",
    "    \n",
    "    if start is None:\n",
    "        start = df.iloc[0]['time'].item()\n",
    "    else:\n",
    "        start = MinToMS(start, df)\n",
    "    if end is None:\n",
    "        end = df.tail(1)['time'].item()\n",
    "    else:\n",
    "        end = MinToMS(end, df)\n",
    "    \n",
    "    startIndex = df.index[df['time'] == start].tolist()[0]\n",
    "    endIndex = df.index[df['time'] == end].tolist()[0]\n",
    "    \n",
    "    sigma = 50\n",
    "    dfOrientationProcessed = sp.ndimage.filters.gaussian_filter1d(dfOrientation[startIndex: endIndex], sigma)\n",
    "#     dfOrientationProcessed = dfOrientation[startIndex: endIndex]\n",
    "    dfTime = df.time[startIndex: endIndex].values.tolist()\n",
    "\n",
    "    mask = [-1, -1/2, 0, 1/2, 1] \n",
    "    orientCon = np.convolve(dfOrientationProcessed, mask)\n",
    "    \n",
    "    trace0 = go.Scattergl(\n",
    "        x = [x / timeConversionVal for x in dfTime],\n",
    "        y = orientCon,\n",
    "        line = dict(\n",
    "            color = ('rgb(60, 60, 225)'),\n",
    "            width = 1\n",
    "        )\n",
    "    )\n",
    "    \n",
    "    trace1 = go.Scattergl(\n",
    "        x = [x / timeConversionVal for x in dfTime],\n",
    "        y = butter_lowpass_filter(orientCon, cutoff, fs, order),\n",
    "        line = dict(\n",
    "            color = ('rgb(225, 60, 60)'),\n",
    "            width = 1\n",
    "        )\n",
    "    )\n",
    "    \n",
    "    data = [trace0, trace1]\n",
    "    layout = dict(title = filename,\n",
    "                  xaxis = dict(title = 'time'),\n",
    "                  yaxis = dict(title = 'orientation convolution '))\n",
    "    fig = dict(data = data, layout = layout)\n",
    "    #plotly.offline.plot(fig, filename=filename + '.html')\n",
    "    return orientCon, dfTime"
   ]
  },
  {
   "cell_type": "code",
   "execution_count": 5,
   "metadata": {},
   "outputs": [],
   "source": [
    "def rangeSelectionOneDirection(orientCon, dfTime):    \n",
    "    i = 0\n",
    "    j = 0\n",
    "    rangeList = []\n",
    "    #select first range by 0\n",
    "    while(j < len(orientCon)):\n",
    "        if i  == j:\n",
    "            if orientCon[j] == 0:\n",
    "                i += 1\n",
    "                j += 1\n",
    "            else:\n",
    "                j += 1\n",
    "        else:\n",
    "            if orientCon[j] == 0:\n",
    "                rangeList.append(i)\n",
    "                rangeList.append(j)\n",
    "                i = j\n",
    "            else:\n",
    "                j += 1\n",
    "    #merge close range\n",
    "    i = 0            \n",
    "    while(i < len(rangeList)):\n",
    "        if i == len(rangeList) - 1:\n",
    "            break\n",
    "        if i % 2 == 0:\n",
    "            i += 1\n",
    "        else:\n",
    "            if rangeList[i+1] - rangeList[i] < 2:\n",
    "                del rangeList[i]\n",
    "                del rangeList[i]\n",
    "            else:\n",
    "                i += 1  \n",
    "    #delete the almost zero\n",
    "    i = 0\n",
    "    while(i < len(rangeList)-1):\n",
    "        if i % 2 != 0:\n",
    "            i += 1\n",
    "        else:\n",
    "            if median(map(abs, orientCon[rangeList[i]: rangeList[i+1]])) < 0.01:\n",
    "                del rangeList[i]\n",
    "                del rangeList[i]\n",
    "            else:\n",
    "                i += 1\n",
    "\n",
    "    rangeList.insert(0, 0)\n",
    "    rangeList.append(len(orientCon)-1)\n",
    "\n",
    "    i = 1\n",
    "    flag = 0\n",
    "    s = 0\n",
    "    e = 0\n",
    "    #the range should have 0 @front & end\n",
    "    while(i < len(rangeList)-2):\n",
    "        if rangeList[i] - rangeList[i-1] > 3000:\n",
    "            flag += 1\n",
    "        if rangeList[i+2] - rangeList[i+1] > 3000:\n",
    "            flag += 1\n",
    "\n",
    "        if flag == 2:\n",
    "            s = rangeList[i]\n",
    "            e = rangeList[i+1]\n",
    "            break\n",
    "        else:\n",
    "            flag = 0\n",
    "            i += 2\n",
    "    return dfTime[s], dfTime[e]"
   ]
  },
  {
   "cell_type": "code",
   "execution_count": 6,
   "metadata": {},
   "outputs": [],
   "source": [
    "def rangeSelection4orientation(df):\n",
    "    dfOrientationX = df.orientationX\n",
    "    dfOrientationY = df.orientationY\n",
    "    orientConX, timeX = edgeDetection(df, dfOrientationX)\n",
    "    orientConY, timeY = edgeDetection(df, dfOrientationY)\n",
    "    startX, endX = rangeSelectionOneDirection(orientConX, timeX)\n",
    "    startY, endY = rangeSelectionOneDirection(orientConX, timeX)\n",
    "    start = max(startX, startY)\n",
    "    end = min(endX, endY)\n",
    "    return start, end"
   ]
  },
  {
   "cell_type": "code",
   "execution_count": 19,
   "metadata": {},
   "outputs": [],
   "source": [
    "csv_database = 'sqlite:///Cambridge2.db'\n",
    "df = readDB(csv_database)\n",
    "start, end = rangeSelection4orientation(df)"
   ]
  },
  {
   "cell_type": "code",
   "execution_count": 20,
   "metadata": {},
   "outputs": [
    {
     "name": "stdout",
     "output_type": "stream",
     "text": [
      "9.583833333333333\n",
      "16.89281666666667\n"
     ]
    }
   ],
   "source": [
    "print(start/timeConversionVal)\n",
    "print(end/timeConversionVal)"
   ]
  },
  {
   "cell_type": "code",
   "execution_count": 7,
   "metadata": {},
   "outputs": [],
   "source": [
    "def edgeDetection4compass(df, start=None, end=None, filename='edgeDetection'):\n",
    "    \n",
    "    if start is None:\n",
    "        start = df.iloc[0]['time'].item()\n",
    "    else:\n",
    "        start = MinToMS(start, df)\n",
    "    if end is None:\n",
    "        end = df.tail(1)['time'].item()\n",
    "    else:\n",
    "        end = MinToMS(end, df)\n",
    "    \n",
    "    startIndex = df.index[df['time'] == start].tolist()[0]\n",
    "    endIndex = df.index[df['time'] == end].tolist()[0]\n",
    "    \n",
    "    x = df.compassX\n",
    "    y = df.compassY\n",
    "    z = df.compassZ\n",
    "    v = (((x ** 2 + y ** 2) ** (1/2)) ** 2 + z ** 2) ** (1/2)\n",
    "    \n",
    "    sigma = 50\n",
    "    dfOrientationProcessed = sp.ndimage.filters.gaussian_filter1d(v[startIndex: endIndex], sigma)\n",
    "\n",
    "    dfTime = df.time[startIndex: endIndex].values.tolist()\n",
    "\n",
    "    mask = [-1, -1/2, 0, 1/2, 1] \n",
    "    orientCon = np.convolve(dfOrientationProcessed, mask)\n",
    "    \n",
    "#     trace0 = go.Scattergl(\n",
    "#         x = [x / timeConversionVal for x in dfTime],\n",
    "#         y = orientCon,\n",
    "#         line = dict(\n",
    "#             color = ('rgb(60, 60, 225)'),\n",
    "#             width = 1\n",
    "#         )\n",
    "#     )\n",
    "    \n",
    "#     trace1 = go.Scattergl(\n",
    "#         x = [x / timeConversionVal for x in dfTime],\n",
    "#         y = butter_lowpass_filter(orientCon, cutoff, fs, order),\n",
    "#         line = dict(\n",
    "#             color = ('rgb(225, 60, 60)'),\n",
    "#             width = 1\n",
    "#         )\n",
    "#     )\n",
    "    \n",
    "#     data = [trace0]#, trace1]\n",
    "#     layout = dict(title = filename,\n",
    "#                   xaxis = dict(title = 'time'),\n",
    "#                   yaxis = dict(title = 'orientation convolution '))\n",
    "#     fig = dict(data = data, layout = layout)\n",
    "#     plotly.offline.plot(fig, filename=filename + '.html')\n",
    "    return orientCon, dfTime"
   ]
  },
  {
   "cell_type": "code",
   "execution_count": 15,
   "metadata": {},
   "outputs": [],
   "source": [
    "csv_database = 'sqlite:///Cambridge2.db'\n",
    "df = readDB(csv_database)\n",
    "compassCon, time = edgeDetection4compass(df, filename = 'compassProcessed')"
   ]
  },
  {
   "cell_type": "code",
   "execution_count": 16,
   "metadata": {},
   "outputs": [
    {
     "name": "stdout",
     "output_type": "stream",
     "text": [
      "0.10036666666666667\n",
      "0.10036666666666667\n"
     ]
    }
   ],
   "source": [
    "startC, endC = rangeSelectionOneDirection(compassCon, time)\n",
    "print(startC/timeConversionVal)\n",
    "print(endC/timeConversionVal)"
   ]
  },
  {
   "cell_type": "code",
   "execution_count": null,
   "metadata": {},
   "outputs": [],
   "source": []
  }
 ],
 "metadata": {
  "kernelspec": {
   "display_name": "Python 3",
   "language": "python",
   "name": "python3"
  },
  "language_info": {
   "codemirror_mode": {
    "name": "ipython",
    "version": 3
   },
   "file_extension": ".py",
   "mimetype": "text/x-python",
   "name": "python",
   "nbconvert_exporter": "python",
   "pygments_lexer": "ipython3",
   "version": "3.6.5"
  }
 },
 "nbformat": 4,
 "nbformat_minor": 2
}
